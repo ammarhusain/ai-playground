{
 "cells": [
  {
   "cell_type": "code",
   "execution_count": 23,
   "metadata": {},
   "outputs": [
    {
     "name": "stdout",
     "output_type": "stream",
     "text": [
      "1452\n"
     ]
    }
   ],
   "source": [
    "import pandas as pd\n",
    "\n",
    "files = ['ammar909_Hangouts.json', 'mrahusain_Hangouts.json']\n",
    "chat_ids = ['110770942895175078480', '110793037062832372344']\n",
    "conversations = [{'prompt': '', 'completion':''}]\n",
    "\n",
    "for file in files:\n",
    "    chat_df = pd.read_json(file)\n",
    "\n",
    "\n",
    "    for i, chat in enumerate(chat_df['conversations']):\n",
    "        for chat_event in chat['events']:\n",
    "            try:\n",
    "                chat_segments = chat_event['chat_message']['message_content']['segment']\n",
    "                message_string = ''\n",
    "                for msg in chat_event['chat_message']['message_content']['segment']:\n",
    "                    message_string = msg['text'] + '\\n' \n",
    "            except:\n",
    "                pass\n",
    "\n",
    "            # see who sent this message\n",
    "            if chat_event['sender_id']['chat_id'] not in chat_ids:\n",
    "                # is this a new string from you?\n",
    "                if len(conversations[-1]['completion']) > 0:\n",
    "                    # create a new prompt\n",
    "                    conversations.append({'prompt': '', 'completion':''})\n",
    "                conversations[-1]['prompt'] += message_string + '\\n'\n",
    "            else:\n",
    "                conversations[-1]['completion'] += message_string + '\\n'\n",
    "\n",
    "print(len(conversations))\n"
   ]
  },
  {
   "cell_type": "code",
   "execution_count": 18,
   "metadata": {},
   "outputs": [
    {
     "data": {
      "text/plain": [
       "True"
      ]
     },
     "execution_count": 18,
     "metadata": {},
     "output_type": "execute_result"
    }
   ],
   "source": [
    "a = 'foo'\n",
    "b = 'bar'\n",
    "c = [a, b]\n",
    "\n",
    "'br' not in c\n"
   ]
  },
  {
   "cell_type": "code",
   "execution_count": 24,
   "metadata": {},
   "outputs": [],
   "source": [
    "\n",
    "\n",
    "df = pd.DataFrame(conversations)\n",
    "\n",
    "\n",
    "df.to_json(path_or_buf='my_hangouts.jsonl', orient='records', lines=True)\n"
   ]
  },
  {
   "cell_type": "code",
   "execution_count": 28,
   "metadata": {},
   "outputs": [
    {
     "data": {
      "text/plain": [
       "1452"
      ]
     },
     "execution_count": 28,
     "metadata": {},
     "output_type": "execute_result"
    }
   ],
   "source": [
    "openai_chat_df = pd.read_json('my_hangouts_prepared.jsonl', lines=True)\n",
    "len(openai_chat_df)"
   ]
  },
  {
   "cell_type": "markdown",
   "metadata": {},
   "source": [
    "## OpenAI Finetuning stuff"
   ]
  },
  {
   "cell_type": "code",
   "execution_count": null,
   "metadata": {},
   "outputs": [],
   "source": [
    "! openai tools fine_tunes.prepare_data -f my_hangouts.jsonl "
   ]
  },
  {
   "cell_type": "code",
   "execution_count": 29,
   "metadata": {
    "vscode": {
     "languageId": "shellscript"
    }
   },
   "outputs": [
    {
     "ename": "SyntaxError",
     "evalue": "invalid syntax (563538916.py, line 1)",
     "output_type": "error",
     "traceback": [
      "\u001b[0;36m  File \u001b[0;32m\"/var/folders/ck/03ycsxx53dv1qf6f5slgldjw00ll86/T/ipykernel_62697/563538916.py\"\u001b[0;36m, line \u001b[0;32m1\u001b[0m\n\u001b[0;31m    openai api fine_tunes.create -t my_hangouts_prepared.jsonl -m davinci --suffix \"ammmar hangouts chatobot\"\u001b[0m\n\u001b[0m           ^\u001b[0m\n\u001b[0;31mSyntaxError\u001b[0m\u001b[0;31m:\u001b[0m invalid syntax\n"
     ]
    }
   ],
   "source": [
    "openai api fine_tunes.create -t my_hangouts_prepared.jsonl -m davinci --suffix \"ammmar hangouts chatbot\"\n"
   ]
  },
  {
   "cell_type": "markdown",
   "metadata": {},
   "source": []
  }
 ],
 "metadata": {
  "interpreter": {
   "hash": "9d5645801607aea943748465a80f983311a08ead9d2d3fd726901906c20a55b2"
  },
  "kernelspec": {
   "display_name": "Python 3.8.8 ('base')",
   "language": "python",
   "name": "python3"
  },
  "language_info": {
   "codemirror_mode": {
    "name": "ipython",
    "version": 3
   },
   "file_extension": ".py",
   "mimetype": "text/x-python",
   "name": "python",
   "nbconvert_exporter": "python",
   "pygments_lexer": "ipython3",
   "version": "3.8.8"
  },
  "orig_nbformat": 4
 },
 "nbformat": 4,
 "nbformat_minor": 2
}
